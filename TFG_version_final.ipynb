{
  "cells": [
    {
      "cell_type": "markdown",
      "metadata": {
        "id": "view-in-github",
        "colab_type": "text"
      },
      "source": [
        "<a href=\"https://colab.research.google.com/github/alfonso-roldan/Neutrophils_TFG/blob/main/TFG_version_final.ipynb\" target=\"_parent\"><img src=\"https://colab.research.google.com/assets/colab-badge.svg\" alt=\"Open In Colab\"/></a>"
      ]
    },
    {
      "cell_type": "markdown",
      "metadata": {
        "id": "TGEloWGVgkEt"
      },
      "source": [
        "#Importar librerías"
      ]
    },
    {
      "cell_type": "code",
      "execution_count": null,
      "metadata": {
        "id": "yWt0DqEZ4lxF"
      },
      "outputs": [],
      "source": [
        "import numpy as np\n",
        "import matplotlib.pyplot as plt\n",
        "from math import erf\n",
        "import scipy as sc\n",
        "import pymc as pm\n",
        "import xarray as xr\n",
        "from scipy.special import erf as erff\n",
        "import arviz as az"
      ]
    },
    {
      "cell_type": "markdown",
      "metadata": {
        "id": "5qXITf3l4wBd"
      },
      "source": [
        "#Importar Datos"
      ]
    },
    {
      "cell_type": "markdown",
      "metadata": {
        "id": "gvYEvOoyIpKy"
      },
      "source": [
        "##Sangre"
      ]
    },
    {
      "cell_type": "code",
      "execution_count": null,
      "metadata": {
        "id": "A7O5AoLb4rA3"
      },
      "outputs": [],
      "source": [
        "t=np.linspace(0,15,10**4) #tiempo\n",
        "T=np.array([1,2,3,4,6,8,12,15]) #datos temporales\n",
        "data_blood=np.zeros(8)\n",
        "data_blood_n=np.zeros(8)\n",
        "error_blood=np.zeros(8)\n",
        "\n",
        "day1=[0.51,0.65,0.73,0.30,0.63]\n",
        "day2=[28.6, 5.82, 18.0]\n",
        "day3=[51.4, 53.2, 55.2, 53.0]\n",
        "day4=[44, 44.6, 46.9, 48.3]\n",
        "day6=[8.92, 4.52, 12]\n",
        "day8=[0.25, 1.1, 0.31, 0.91, 0.49]\n",
        "day12=[0.16, 0.12, 0.22, 0.26]\n",
        "day15=[0.074, 0.17, 0.058, 0.42]\n",
        "days=[day1,day2,day3,day4,day6,day8,day12,day15] #datos\n",
        "\n",
        "#vector con valor medio por día\n",
        "for i in range(len(days)):\n",
        "    data_blood[i]=np.mean(days[i])\n",
        "\n",
        "#vector con desv. típica por día\n",
        "for i in range(len(days)):\n",
        "    error_blood[i]=np.sqrt(np.var(days[i]))\n",
        "\n",
        "#normalizar datos entre [0,100]\n",
        "max_data=max(data_blood)\n",
        "min_data=min(data_blood)\n",
        "for i in range(len(days)):\n",
        "    data_blood_n[i]=(data_blood[i]-min_data)*100/(max_data-min_data)"
      ]
    },
    {
      "cell_type": "markdown",
      "metadata": {
        "id": "GYEMcTE5ItG0"
      },
      "source": [
        "##Médula Osea"
      ]
    },
    {
      "cell_type": "code",
      "execution_count": null,
      "metadata": {
        "id": "l2B0M15fIv-Z"
      },
      "outputs": [],
      "source": [
        "t=np.linspace(0,15,10**4) #tiempo\n",
        "T=np.array([1,2,3,4,6,8,12,15]) #datos temporales\n",
        "data_bm=np.zeros(8)\n",
        "data_bm_n=np.zeros(8)\n",
        "error_bm=np.zeros(8)\n",
        "\n",
        "day1=[29.2, 33.3, 29.3, 29.4, 32.8]\n",
        "day2=[58.7, 52.0, 57.4]\n",
        "day3=[39.5, 33.3, 32, 37.1]\n",
        "day4=[20.6, 22.3, 20.2, 13.6]\n",
        "day6=[1.26, 1.33, 2.63]\n",
        "day8=[0.073, 1.91, 0.39, 0.44, 0.92]\n",
        "day12=[0.14, 0.2, 0.23, 0.14]\n",
        "day15=[0.29, 0.36, 0.25, 0.22]\n",
        "days=[day1,day2,day3,day4,day6,day8,day12,day15] #datos\n",
        "\n",
        "\n",
        "#vector con valor medio por día\n",
        "for i in range(len(days)):\n",
        "    data_bm[i]=np.mean(days[i])\n",
        "\n",
        "#vector con desv. típica por día\n",
        "for i in range(len(days)):\n",
        "    error_bm[i]=np.sqrt(np.var(days[i]))\n",
        "\n",
        "#normalizar datos entre [0,100]\n",
        "max_data=max(data_bm)\n",
        "min_data=min(data_bm)\n",
        "for i in range(len(days)):\n",
        "    data_bm_n[i]=(data_bm[i]-min_data)*100/(max_data-min_data)"
      ]
    },
    {
      "cell_type": "markdown",
      "metadata": {
        "id": "Ob3Dp3FyI0Xq"
      },
      "source": [
        "##Bazo"
      ]
    },
    {
      "cell_type": "code",
      "execution_count": null,
      "metadata": {
        "id": "1xofovN4I2QH"
      },
      "outputs": [],
      "source": [
        "t=np.linspace(0,15,10**4) #tiempo\n",
        "T=np.array([1,2,3,4,6,8,12,15]) #datos temporales\n",
        "data_spleen=np.zeros(8)\n",
        "data_spleen_n=np.zeros(8)\n",
        "error_spleen=np.zeros(8)\n",
        "\n",
        "day1=[15.9, 13.0, 8.15, 14.8, 13.5]\n",
        "day2=[29.3, 10.2, 19.6]\n",
        "day3=[30.4, 25.2, 35.7, 31.0]\n",
        "day4=[6.54, 15.6, 21.9, 16.0]\n",
        "day6=[1.62, 1.6, 3.05]\n",
        "day8=[0.046, 0.22, 0.23, 0.29, 0.15]\n",
        "day12=[0.046, 0.049, 0.04, 0.066]\n",
        "day15=[0.031, 0.035, 0.029, 0.023]\n",
        "days=[day1,day2,day3,day4,day6,day8,day12,day15] #datos\n",
        "\n",
        "\n",
        "#vector con valor medio por día\n",
        "for i in range(len(days)):\n",
        "    data_spleen[i]=np.mean(days[i])\n",
        "\n",
        "#vector con desv. típica por día\n",
        "for i in range(len(days)):\n",
        "    error_spleen[i]=np.sqrt(np.var(days[i]))\n",
        "\n",
        "#normalizar datos entre [0,100]\n",
        "max_data=max(data_spleen)\n",
        "min_data=min(data_spleen)\n",
        "for i in range(len(days)):\n",
        "    data_spleen_n[i]=(data_spleen[i]-min_data)*100/(max_data-min_data)"
      ]
    },
    {
      "cell_type": "markdown",
      "metadata": {
        "id": "d1DiUkPxI7iv"
      },
      "source": [
        "##Tumor"
      ]
    },
    {
      "cell_type": "code",
      "execution_count": null,
      "metadata": {
        "id": "RQELbHl-I9TW"
      },
      "outputs": [],
      "source": [
        "t=np.linspace(0,15,10**4) #tiempo\n",
        "T=np.array([1,2,3,4,6,8,12,15]) #datos temporales\n",
        "data_tumor=np.zeros(8)\n",
        "data_tumor_n=np.zeros(8)\n",
        "error_tumor=np.zeros(8)\n",
        "\n",
        "day1=[1.64, 1.5, 3.73, 2.15, 0.14]\n",
        "day2=[4.85, 0.92, 1.82]\n",
        "day3=[15.1, 19.6, 21.1, 23.1]\n",
        "day4=[38.1, 37.3, 39.7, 45.0]\n",
        "day6=[19.1, 18.2, 25.4]\n",
        "day8=[3.35, 9.56, 5.66, 5.64, 4.87]\n",
        "day12=[2.95, 1.35, 1.69, 1.38]\n",
        "day15=[1.64, 0.9, 1.5, 1.36]\n",
        "days=[day1,day2,day3,day4,day6,day8,day12,day15] #datos\n",
        "\n",
        "#vector con valor medio por día\n",
        "for i in range(len(days)):\n",
        "    data_tumor[i]=np.mean(days[i])\n",
        "\n",
        "#vector con desv. típica por día\n",
        "for i in range(len(days)):\n",
        "    error_tumor[i]=np.sqrt(np.var(days[i]))\n",
        "\n",
        "#normalizar datos entre [0,100]\n",
        "max_data=max(data_tumor)\n",
        "min_data=min(data_tumor)\n",
        "for i in range(len(days)):\n",
        "    data_tumor_n[i]=(data_tumor[i]-min_data)*100/(max_data-min_data)"
      ]
    },
    {
      "cell_type": "markdown",
      "metadata": {
        "id": "fH1ulAAFqYyV"
      },
      "source": [
        "#Método ABC"
      ]
    },
    {
      "cell_type": "code",
      "execution_count": null,
      "metadata": {
        "id": "xAf8KizszZT9"
      },
      "outputs": [],
      "source": [
        "#modelo del problema\n",
        "def evo(t, n0, tau, td,sig):\n",
        "    return n0 * np.exp((-1)*t/tau)*(erff((sig**2+td*tau)/(np.sqrt(2)*sig*tau)) \\\n",
        "           -erff((sig**2+(td+(-1)*t)*tau)/(np.sqrt(2)*sig*tau)))\n",
        "\n",
        "def test_model(rng,n0,tau,td,sig,size=None):\n",
        "    return evo(T,n0,tau,td,sig)"
      ]
    },
    {
      "cell_type": "markdown",
      "metadata": {
        "id": "V57cWrRCMVCY"
      },
      "source": [
        "##Sangre"
      ]
    },
    {
      "cell_type": "code",
      "execution_count": null,
      "metadata": {
        "id": "dcaxnukuMaG1"
      },
      "outputs": [],
      "source": [
        "with pm.Model() as model_blood_n:\n",
        "    n0 = pm.Uniform('n0',lower=0,upper=10000)\n",
        "    tau = pm.Uniform('tau',lower=0.05,upper=5) #tau no puede valer 0\n",
        "    td = pm.Uniform('td',lower=0,upper=5)\n",
        "    sig = pm.Uniform('sig',lower=0.05,upper=5) #sig no puede valer 0\n",
        "\n",
        "\n",
        "    sim = pm.Simulator(\"sim\", test_model,params=(n0, tau, td,sig), \\\n",
        "                       epsilon=1.5, observed=data_blood_n)\n",
        "    #iniciar muestreo\n",
        "    idata_blood_n = pm.sample_smc(chains=4)"
      ]
    },
    {
      "cell_type": "code",
      "execution_count": null,
      "metadata": {
        "id": "CFtAJrXlMqFM"
      },
      "outputs": [],
      "source": [
        "#representar gráfico de traza y estadístico \\hat{R}\n",
        "az.plot_trace(idata_blood_n)\n",
        "plt.tight_layout()\n",
        "plt.show()\n",
        "az.rhat(idata_blood_n)"
      ]
    },
    {
      "cell_type": "code",
      "execution_count": null,
      "metadata": {
        "id": "9R0xUxNWMt68"
      },
      "outputs": [],
      "source": [
        "#representar distribuciones a posteriori\n",
        "az.plot_posterior(idata_blood_n,hdi_prob=0.95)\n",
        "plt.show()"
      ]
    },
    {
      "cell_type": "code",
      "execution_count": null,
      "metadata": {
        "id": "ouLeL0IOM7h2"
      },
      "outputs": [],
      "source": [
        "#representar datos sintéticos\n",
        "post = idata_blood_n.posterior\n",
        "t = xr.DataArray(np.linspace(0, 15, 1000), dims=[\"plot_dim\"])\n",
        "tarray = np.linspace(0,15,1000)\n",
        "evo_pp = post[\"n0\"]*np.exp((-1)*t/post[\"tau\"])*(erff((post[\"sig\"]*post['sig']+ \\\n",
        "       post[\"td\"]*post[\"tau\"])/(np.sqrt(2)*post[\"sig\"]*post[\"tau\"]))- \\\n",
        "       erff((post[\"sig\"]*post['sig']+(post[\"td\"]+(-1)*t)*post[\"tau\"])/ \\\n",
        "        (np.sqrt(2)*post[\"sig\"]*post[\"tau\"])))\n",
        "half_stimate = []\n",
        "full_stimate = []\n",
        "norm_max = float(np.max(evo_pp.mean((\"chain\", \"draw\"))))\n",
        "norm_min = float(np.min(evo_pp.mean((\"chain\", \"draw\"))))\n",
        "max_time = int(np.where((evo_pp.mean((\"chain\", \"draw\"))-norm_min)*100/ \\\n",
        "           (norm_max-norm_min) == 100)[0])\n",
        "\n",
        "_, ax = plt.subplots(figsize=(14, 6))\n",
        "posterior = idata_blood_n.posterior.stack(samples=(\"draw\", \"chain\"))\n",
        "\n",
        "for i in np.random.randint(0, len(posterior[\"n0\"]) , 100):\n",
        "    sim = evo(t,posterior[\"n0\"][i].to_numpy(), posterior[\"tau\"][i].to_numpy(),\\\n",
        "            posterior[\"td\"][i].to_numpy(),posterior[\"sig\"][i].to_numpy())\n",
        "    sim = (sim-norm_min)*100/(norm_max-norm_min)\n",
        "    for ind,time in enumerate(tarray[max_time:]):\n",
        "\n",
        "      if sim[ind+max_time]<50:\n",
        "        temp = ind+max_time\n",
        "        half_stimate.append((time-tarray[max_time])*24)\n",
        "        break\n",
        "    for ind,time in enumerate(tarray[temp:]):\n",
        "      if sim[ind+temp]<5:\n",
        "        full_stimate.append((time-tarray[max_time])*24)\n",
        "        break\n",
        "    ax.plot(t,sim, alpha=0.1, c=\"C0\")\n",
        "\n",
        "data_norm = (data_blood_n-norm_min)*100/(norm_max-norm_min)\n",
        "ax.plot(T, data_norm, \"o\", label=\"Datos\", c=\"r\", mec=\"k\")\n",
        "ax.errorbar(T,data_norm,yerr=error_blood,fmt='none',c='r')\n",
        "ax.plot(t, (evo_pp.mean((\"chain\", \"draw\"))-norm_min)*100/(norm_max-norm_min), \\\n",
        "        label=\"Media\", color=\"khaki\", alpha=0.9,linewidth=2)\n",
        "ax.set_xlabel(\"Tiempo\",size=20)\n",
        "ax.set_ylabel(\"Población de Neutrófilos\",size=20)\n",
        "ax.set_title('Sangre',size=20)\n",
        "plt.xticks(size=15)\n",
        "ax.yaxis.grid(True)\n",
        "plt.yticks(size=15)\n",
        "ax.legend(fontsize=20);"
      ]
    },
    {
      "cell_type": "code",
      "execution_count": null,
      "metadata": {
        "id": "sdYCKls8sgBo"
      },
      "outputs": [],
      "source": [
        "#representar KDE para semivida y esperanza de vida\n",
        "kernel1 = sc.stats.gaussian_kde(half_stimate)\n",
        "kernel2 = sc.stats.gaussian_kde(full_stimate)\n",
        "interval1 = np.linspace(np.min(half_stimate), np.max(half_stimate),100)\n",
        "y1=kernel1.pdf(interval1)\n",
        "interval2 = np.linspace(np.min(full_stimate), np.max(full_stimate),100)\n",
        "y2=kernel2.pdf(interval2)\n",
        "\n",
        "_, ax = plt.subplots(figsize=(14, 6))\n",
        "ax.plot(interval1,y1,label='KDE')\n",
        "plt.xticks(size=15)\n",
        "plt.yticks(size=15)\n",
        "ax.set_xlabel(\"Tiempo\",size=20)\n",
        "ax.set_ylabel(\"Densidad\",size=20)\n",
        "ax.legend(fontsize=20)\n",
        "\n",
        "_, ax = plt.subplots(figsize=(14, 6))\n",
        "ax.plot(interval2,y2,label='KDE')\n",
        "plt.xticks(size=15)\n",
        "plt.yticks(size=15)\n",
        "ax.set_xlabel(\"Tiempo\",size=16)\n",
        "ax.legend(fontsize=16)"
      ]
    },
    {
      "cell_type": "markdown",
      "metadata": {
        "id": "UpciD5BRNMK3"
      },
      "source": [
        "##Médula Ósea"
      ]
    },
    {
      "cell_type": "code",
      "execution_count": null,
      "metadata": {
        "id": "iZAlJcUCNN47"
      },
      "outputs": [],
      "source": [
        "with pm.Model() as model_bm_n:\n",
        "    n0 = pm.Uniform('n0',lower=0,upper=10000)\n",
        "    tau = pm.Uniform('tau',lower=0.05,upper=5) #tau no puede valer 0\n",
        "    td = pm.Uniform('td',lower=0,upper=5)\n",
        "    sig = pm.Uniform('sig',lower=0.05,upper=5) #sig no puede valer 0\n",
        "\n",
        "\n",
        "    sim = pm.Simulator(\"sim\", test_model, params=(n0, tau, td,sig), \\\n",
        "                       epsilon=1.5, observed=data_bm_n)\n",
        "\n",
        "    #iniciar muestreo\n",
        "    idata_bm_n = pm.sample_smc(chains=4)"
      ]
    },
    {
      "cell_type": "code",
      "execution_count": null,
      "metadata": {
        "id": "tdGHWwPcNU2K"
      },
      "outputs": [],
      "source": [
        "#representar gráfico de traza y estadístico \\hat{R}\n",
        "az.plot_trace(idata_bm_n)\n",
        "plt.tight_layout()\n",
        "plt.show()\n",
        "az.rhat(idata_bm_n)"
      ]
    },
    {
      "cell_type": "code",
      "execution_count": null,
      "metadata": {
        "id": "FI_yXg-2NYhi"
      },
      "outputs": [],
      "source": [
        "#representar distribución a posteriori\n",
        "az.plot_posterior(idata_bm_n,hdi_prob=0.95)\n",
        "plt.show()"
      ]
    },
    {
      "cell_type": "code",
      "execution_count": null,
      "metadata": {
        "id": "fZ6JMcCfNkSv"
      },
      "outputs": [],
      "source": [
        "# representar datos sintéticos\n",
        "post = idata_bm_n.posterior\n",
        "t = xr.DataArray(np.linspace(0, 15, 1000), dims=[\"plot_dim\"])\n",
        "tarray = np.linspace(0,15,1000)\n",
        "evo_pp = post[\"n0\"]*np.exp((-1)*t/post[\"tau\"])*(erff((post[\"sig\"]*post['sig']+ \\\n",
        "       post[\"td\"]*post[\"tau\"])/(np.sqrt(2)*post[\"sig\"]*post[\"tau\"]))- \\\n",
        "       erff((post[\"sig\"]*post['sig']+(post[\"td\"]+(-1)*t)*post[\"tau\"])/ \\\n",
        "        (np.sqrt(2)*post[\"sig\"]*post[\"tau\"])))\n",
        "half_stimate = []\n",
        "full_stimate = []\n",
        "norm_max = float(np.max(evo_pp.mean((\"chain\", \"draw\"))))\n",
        "norm_min = float(np.min(evo_pp.mean((\"chain\", \"draw\"))))\n",
        "max_time = int(np.where((evo_pp.mean((\"chain\", \"draw\"))-norm_min)*100/ \\\n",
        "           (norm_max-norm_min) == 100)[0])\n",
        "\n",
        "_, ax = plt.subplots(figsize=(14, 6))\n",
        "posterior = idata_bm_n.posterior.stack(samples=(\"draw\", \"chain\"))\n",
        "\n",
        "for i in np.random.randint(0, len(posterior[\"n0\"]) , 100):\n",
        "    sim = evo(t,posterior[\"n0\"][i].to_numpy(), posterior[\"tau\"][i].to_numpy(), \\\n",
        "            posterior[\"td\"][i].to_numpy(),posterior[\"sig\"][i].to_numpy())\n",
        "    sim = (sim-norm_min)*100/(norm_max-norm_min)\n",
        "    for ind,time in enumerate(tarray[max_time:]):\n",
        "      if sim[ind+max_time]<50:\n",
        "        temp = ind+max_time\n",
        "        half_stimate.append((time-tarray[max_time])*24)\n",
        "        break\n",
        "    for ind,time in enumerate(tarray[temp:]):\n",
        "      if sim[ind+temp]<5:\n",
        "        full_stimate.append((time-tarray[max_time])*24)\n",
        "        break\n",
        "    ax.plot(t,sim, alpha=0.1, c=\"C0\")\n",
        "\n",
        "data_norm=(data_bm_n-norm_min)*100/(norm_max-norm_min)\n",
        "ax.plot(T, data_norm, \"o\", label=\"Datos\", c=\"r\", mec=\"k\")\n",
        "ax.errorbar(T,data_norm,yerr=error_bm,fmt='none',c='r')\n",
        "ax.plot(t, (evo_pp.mean((\"chain\", \"draw\"))-norm_min)*100/(norm_max-norm_min), \\\n",
        "        label=\"Media\", color=\"khaki\", alpha=0.9,linewidth=2)\n",
        "ax.set_xlabel(\"Tiempo\",size=20)\n",
        "ax.set_ylabel(\"Población de Neutrófilos\",size=20)\n",
        "ax.set_title('Médula Ósea',size=20)\n",
        "plt.xticks(size=15)\n",
        "ax.yaxis.grid(True)\n",
        "plt.yticks(size=15)\n",
        "ax.legend(fontsize=20);"
      ]
    },
    {
      "cell_type": "code",
      "execution_count": null,
      "metadata": {
        "id": "IVlkf0gP6a64"
      },
      "outputs": [],
      "source": [
        "#representar KDE para semivida y esperanza de vida\n",
        "kernel1 = sc.stats.gaussian_kde(half_stimate)\n",
        "kernel2 = sc.stats.gaussian_kde(full_stimate)\n",
        "interval1 = np.linspace(np.min(half_stimate), np.max(half_stimate),100)\n",
        "y1=kernel1.pdf(interval1)\n",
        "interval2 = np.linspace(np.min(full_stimate), np.max(full_stimate),100)\n",
        "y2=kernel2.pdf(interval2)\n",
        "\n",
        "_, ax = plt.subplots(figsize=(14, 6))\n",
        "ax.plot(interval1,y1,label='KDE')\n",
        "plt.xticks(size=15)\n",
        "plt.yticks(size=15)\n",
        "ax.set_xlabel(\"Tiempo\",size=20)\n",
        "ax.set_ylabel(\"Densidad\",size=20)\n",
        "ax.legend(fontsize=16,loc='upper right')\n",
        "\n",
        "_, ax = plt.subplots(figsize=(14, 6))\n",
        "ax.plot(interval2,y2,label='KDE')\n",
        "plt.xticks(size=15)\n",
        "plt.yticks(size=15)\n",
        "ax.set_xlabel(\"Tiempo\",size=16)\n",
        "ax.legend(fontsize=16)"
      ]
    },
    {
      "cell_type": "markdown",
      "metadata": {
        "id": "Y_VL96FJN1iu"
      },
      "source": [
        "##Bazo"
      ]
    },
    {
      "cell_type": "code",
      "execution_count": null,
      "metadata": {
        "id": "2Svn6jxqN4x-"
      },
      "outputs": [],
      "source": [
        "with pm.Model() as model_spleen_n:\n",
        "    n0=pm.Uniform('n0',lower=0,upper=10000)\n",
        "    tau=pm.Uniform('tau',lower=0.05,upper=5) #tau no puede valer 0\n",
        "    td=pm.Uniform('td',lower=0,upper=5)\n",
        "    sig=pm.Uniform('sig',lower=0.05,upper=5) #sig no puede valer 0\n",
        "\n",
        "    sim = pm.Simulator(\"sim\", test_model, params=(n0, tau, td,sig), \\\n",
        "                       epsilon=5, observed=data_spleen_n)\n",
        "\n",
        "    #iniciar muestreo\n",
        "    idata_spleen_n = pm.sample_smc(chains=4,draws=4000)\n"
      ]
    },
    {
      "cell_type": "code",
      "execution_count": null,
      "metadata": {
        "id": "B2rU9bZDOW8t"
      },
      "outputs": [],
      "source": [
        "#representar gráfico de traza y estadístico \\hat{R}\n",
        "az.plot_trace(idata_spleen_n)\n",
        "plt.tight_layout()\n",
        "plt.show()\n",
        "az.rhat(idata_spleen_n)"
      ]
    },
    {
      "cell_type": "code",
      "execution_count": null,
      "metadata": {
        "id": "WklyxUpfOatv"
      },
      "outputs": [],
      "source": [
        "#representar distribución a posteriori\n",
        "az.plot_posterior(idata_spleen_n,hdi_prob=0.95)\n",
        "plt.show()"
      ]
    },
    {
      "cell_type": "code",
      "execution_count": null,
      "metadata": {
        "id": "6FBIB2ldOhJx"
      },
      "outputs": [],
      "source": [
        "#representar datos sintéticos\n",
        "post = idata_spleen_n.posterior\n",
        "t = xr.DataArray(np.linspace(0, 15, 1000), dims=[\"plot_dim\"])\n",
        "tarray = np.linspace(0,15,1000)\n",
        "evo_pp = post[\"n0\"]*np.exp((-1)*t/post[\"tau\"])*(erff((post[\"sig\"]*post['sig']+ \\\n",
        "       post[\"td\"]*post[\"tau\"])/(np.sqrt(2)*post[\"sig\"]*post[\"tau\"]))- \\\n",
        "       erff((post[\"sig\"]*post['sig']+(post[\"td\"]+(-1)*t)*post[\"tau\"])/ \\\n",
        "        (np.sqrt(2)*post[\"sig\"]*post[\"tau\"])))\n",
        "half_stimate = []\n",
        "full_stimate = []\n",
        "norm_max = float(np.max(evo_pp.mean((\"chain\", \"draw\"))))\n",
        "norm_min = float(np.min(evo_pp.mean((\"chain\", \"draw\"))))\n",
        "max_time = int(np.where((evo_pp.mean((\"chain\", \"draw\"))-norm_min)*100/ \\\n",
        "           (norm_max-norm_min) == 100)[0])\n",
        "\n",
        "_, ax = plt.subplots(figsize=(14, 6))\n",
        "posterior = idata_spleen_n.posterior.stack(samples=(\"draw\", \"chain\"))\n",
        "\n",
        "for i in np.random.randint(0, len(posterior[\"n0\"]) , 100):\n",
        "    sim = evo(t,posterior[\"n0\"][i].to_numpy(), posterior[\"tau\"][i].to_numpy(), \\\n",
        "              posterior[\"td\"][i].to_numpy(),posterior[\"sig\"][i].to_numpy())\n",
        "    sim = (sim-norm_min)*100/(norm_max-norm_min)\n",
        "    for ind,time in enumerate(tarray[max_time:]):\n",
        "      if sim[ind+max_time]<50:\n",
        "        temp = ind+max_time\n",
        "        half_stimate.append((time-tarray[max_time])*24)\n",
        "        break\n",
        "    for ind,time in enumerate(tarray[temp:]):\n",
        "      if sim[ind+temp]<5:\n",
        "        full_stimate.append((time-tarray[max_time])*24)\n",
        "        break\n",
        "    ax.plot(t,sim, alpha=0.1, c=\"C0\")\n",
        "\n",
        "data_norm = (data_spleen_n-norm_min)*100/(norm_max-norm_min)\n",
        "ax.plot(T, data_norm, \"o\", label=\"Datos\", c=\"r\", mec=\"k\")\n",
        "ax.errorbar(T,data_norm,yerr=error_spleen,fmt='none',c='r')\n",
        "ax.plot(t, (evo_pp.mean((\"chain\", \"draw\"))-norm_min)*100/(norm_max-norm_min), \\\n",
        "        label=\"Media\", color=\"khaki\", alpha=0.9,linewidth=2)\n",
        "ax.set_xlabel(\"Tiempo\",size=20)\n",
        "ax.set_ylabel(\"Población de Neutrófilos\",size=20)\n",
        "ax.set_title('Bazo',size=20)\n",
        "plt.xticks(size=15)\n",
        "ax.yaxis.grid(True)\n",
        "plt.yticks(size=15)\n",
        "ax.legend(fontsize=20);"
      ]
    },
    {
      "cell_type": "code",
      "execution_count": null,
      "metadata": {
        "id": "9ui3BZP06e_o"
      },
      "outputs": [],
      "source": [
        "#representar KDE para semivida y esperanza de vida\n",
        "kernel1 = sc.stats.gaussian_kde(half_stimate)\n",
        "kernel2 = sc.stats.gaussian_kde(full_stimate)\n",
        "interval1 = np.linspace(np.min(half_stimate), np.max(half_stimate),100)\n",
        "y1=kernel1.pdf(interval1)\n",
        "interval2 = np.linspace(np.min(full_stimate), np.max(full_stimate),100)\n",
        "y2=kernel2.pdf(interval2)\n",
        "\n",
        "_, ax = plt.subplots(figsize=(14, 6))\n",
        "ax.plot(interval1,y1,label='KDE')\n",
        "plt.xticks(size=15)\n",
        "plt.yticks(size=15)\n",
        "ax.set_xlabel(\"Tiempo\",size=20)\n",
        "ax.set_ylabel(\"Densidad\",size=20)\n",
        "ax.legend(fontsize=16)\n",
        "\n",
        "_, ax = plt.subplots(figsize=(14, 6))\n",
        "ax.plot(interval2,y2,label='KDE')\n",
        "plt.xticks(size=15)\n",
        "plt.yticks(size=15)\n",
        "ax.set_xlabel(\"Tiempo\",size=16)\n",
        "ax.legend(fontsize=16)"
      ]
    },
    {
      "cell_type": "markdown",
      "metadata": {
        "id": "bu1ARqAkOr6W"
      },
      "source": [
        "##Tumor"
      ]
    },
    {
      "cell_type": "code",
      "execution_count": null,
      "metadata": {
        "id": "dNXojRg-OtrK"
      },
      "outputs": [],
      "source": [
        "with pm.Model() as model_tumor_n:\n",
        "    n0 = pm.Uniform('n0',lower=0,upper=10000)\n",
        "    tau = pm.Uniform('tau',lower=0.05,upper=5) #tau no puede valer 0\n",
        "    td = pm.Uniform('td',lower=0,upper=5)\n",
        "    sig = pm.Uniform('sig',lower=0.05,upper=5) #sig no puede valer 0\n",
        "\n",
        "\n",
        "    sim = pm.Simulator(\"sim\", test_model, params=(n0, tau,td,sig), \\\n",
        "                       epsilon=1.5, observed=data_tumor_n)\n",
        "\n",
        "    #iniciar muestreo\n",
        "    idata_tumor_n = pm.sample_smc(chains=4)"
      ]
    },
    {
      "cell_type": "code",
      "execution_count": null,
      "metadata": {
        "id": "T4OcdhpwO2VM"
      },
      "outputs": [],
      "source": [
        "#representar gráfico de traza y estadístico \\hat{R}\n",
        "az.plot_trace(idata_tumor_n)\n",
        "plt.tight_layout()\n",
        "plt.show()\n",
        "az.rhat(idata_tumor_n)"
      ]
    },
    {
      "cell_type": "code",
      "execution_count": null,
      "metadata": {
        "id": "ptN3LAZpO7bW"
      },
      "outputs": [],
      "source": [
        "#representar distribución a posteriori\n",
        "az.plot_posterior(idata_tumor_n,hdi_prob=0.95)\n",
        "plt.show()"
      ]
    },
    {
      "cell_type": "code",
      "execution_count": null,
      "metadata": {
        "id": "jj97FeN7PFhi"
      },
      "outputs": [],
      "source": [
        "#representar datos sintéticos\n",
        "post = idata_tumor_n.posterior\n",
        "t = xr.DataArray(np.linspace(0, 15, 1000), dims=[\"plot_dim\"])\n",
        "tarray = np.linspace(0,15,1000)\n",
        "evo_pp = post[\"n0\"]*np.exp((-1)*t/post[\"tau\"])*(erff((post[\"sig\"]*post['sig']+ \\\n",
        "       post[\"td\"]*post[\"tau\"])/(np.sqrt(2)*post[\"sig\"]*post[\"tau\"]))- \\\n",
        "       erff((post[\"sig\"]*post['sig']+(post[\"td\"]+(-1)*t)*post[\"tau\"])/ \\\n",
        "        (np.sqrt(2)*post[\"sig\"]*post[\"tau\"])))\n",
        "half_stimate = []\n",
        "full_stimate = []\n",
        "norm_max = float(np.max(evo_pp.mean((\"chain\", \"draw\"))))\n",
        "norm_min = float(np.min(evo_pp.mean((\"chain\", \"draw\"))))\n",
        "max_time = int(np.where((evo_pp.mean((\"chain\", \"draw\"))-norm_min)*100/ \\\n",
        "           (norm_max-norm_min) == 100)[0])\n",
        "\n",
        "\n",
        "_, ax = plt.subplots(figsize=(14, 6))\n",
        "posterior = idata_tumor_n.posterior.stack(samples=(\"draw\", \"chain\"))\n",
        "\n",
        "for i in np.random.randint(0, len(posterior[\"n0\"]) , 100):\n",
        "    sim = evo(t,posterior[\"n0\"][i].to_numpy(), posterior[\"tau\"][i].to_numpy(), \\\n",
        "            posterior[\"td\"][i].to_numpy(),posterior[\"sig\"][i].to_numpy())\n",
        "    sim = (sim-norm_min)*100/(norm_max-norm_min)\n",
        "    for ind,time in enumerate(tarray[max_time:]):\n",
        "      if sim[ind+max_time]<50:\n",
        "        temp = ind+max_time\n",
        "        half_stimate.append((time-tarray[max_time])*24)\n",
        "        break\n",
        "    for ind,time in enumerate(tarray[temp:]):\n",
        "      if sim[ind+temp]<5:\n",
        "        full_stimate.append((time-tarray[max_time])*24)\n",
        "        break\n",
        "    ax.plot(t,sim, alpha=0.1, c=\"C0\")\n",
        "data_norm = (data_tumor_n-norm_min)*100/(norm_max-norm_min)\n",
        "ax.plot(T, data_norm, \"o\", label=\"Datos\", c=\"r\", mec=\"k\")\n",
        "ax.errorbar(T,data_norm,yerr=error_tumor,fmt='none',c='r')\n",
        "ax.plot(t, (evo_pp.mean((\"chain\", \"draw\"))-norm_min)*100/(norm_max-norm_min), \\\n",
        "        label=\"Media\", color=\"khaki\", alpha=0.9,linewidth=2)\n",
        "ax.set_xlabel(\"Tiempo\",size=20)\n",
        "ax.set_ylabel(\"Población de Neutrófilos\",size=20)\n",
        "ax.set_title('Tumor',size=20)\n",
        "plt.xticks(size=15)\n",
        "ax.yaxis.grid(True)\n",
        "plt.yticks(size=15)\n",
        "ax.legend(fontsize=20);"
      ]
    },
    {
      "cell_type": "code",
      "execution_count": null,
      "metadata": {
        "id": "FlylrPJ16g07"
      },
      "outputs": [],
      "source": [
        "kernel1 = sc.stats.gaussian_kde(half_stimate)\n",
        "kernel2 = sc.stats.gaussian_kde(full_stimate)\n",
        "interval1 = np.linspace(np.min(half_stimate), np.max(half_stimate),100)\n",
        "y1=kernel1.pdf(interval1)\n",
        "interval2 = np.linspace(np.min(full_stimate), np.max(full_stimate),100)\n",
        "y2=kernel2.pdf(interval2)\n",
        "\n",
        "_, ax = plt.subplots(figsize=(14, 6))\n",
        "ax.plot(interval1,y1,label='KDE')\n",
        "plt.xticks(size=15)\n",
        "plt.yticks(size=15)\n",
        "ax.set_xlabel(\"Tiempo\",size=20)\n",
        "ax.set_ylabel(\"Densidad\",size=20)\n",
        "ax.legend(fontsize=16)\n",
        "\n",
        "_, ax = plt.subplots(figsize=(14, 6))\n",
        "ax.plot(interval2,y2,label='KDE')\n",
        "plt.xticks(size=15)\n",
        "plt.yticks(size=15)\n",
        "ax.set_xlabel(\"Tiempo\",size=16)\n",
        "ax.legend(fontsize=16)"
      ]
    },
    {
      "cell_type": "markdown",
      "metadata": {
        "id": "k7xHthc2MIVF"
      },
      "source": [
        "#Test U de Mann-Whitney"
      ]
    },
    {
      "cell_type": "code",
      "execution_count": null,
      "metadata": {
        "id": "Ip9REsNVNFKZ"
      },
      "outputs": [],
      "source": [
        "N = 100 #número de datos sintéticos generados\n",
        "t = xr.DataArray(np.linspace(1, 15, 10000), dims=[\"plot_dim\"]) #tiempo\n",
        "eps = 0.05 #tolerancia\n",
        "\n",
        "blood_hl = np.zeros(N)\n",
        "blood_ls = np.zeros(N)\n",
        "bm_hl = np.zeros(N)\n",
        "bm_ls = np.zeros(N)\n",
        "spleen_hl = np.zeros(N)\n",
        "spleen_ls = np.zeros(N)\n",
        "tumor_hl = np.zeros(N)\n",
        "tumor_ls = np.zeros(N)"
      ]
    },
    {
      "cell_type": "markdown",
      "metadata": {
        "id": "yuoKuq-WMQVd"
      },
      "source": [
        "##Sangre"
      ]
    },
    {
      "cell_type": "code",
      "execution_count": null,
      "metadata": {
        "id": "q9OBvtyCMZWc"
      },
      "outputs": [],
      "source": [
        "posterior = idata_blood_n.posterior.stack(samples=(\"draw\", \"chain\"))\n",
        "L = len(t)\n",
        "sample = np.random.randint(0, len(posterior[\"n0\"]), N)\n",
        "for i in range(N):\n",
        "        sim = evo(t,posterior[\"n0\"][sample[i]].to_numpy(), \\\n",
        "                posterior[\"tau\"][sample[i]].to_numpy(), \\\n",
        "                posterior[\"td\"][sample[i]].to_numpy(), \\\n",
        "                posterior[\"sig\"][sample[i]].to_numpy())\n",
        "        temp = max(sim)\n",
        "        temp2 = min(sim)\n",
        "        ind_temp = int(sim.argmax(axis=0))\n",
        "        sim_2 = (sim-temp2)*100/(temp-temp2)\n",
        "        t_max = t[ind_temp]\n",
        "\n",
        "        #calcular la semivida\n",
        "        ind_hl = 0\n",
        "        for j in range(ind_temp,L):\n",
        "            if abs(sim_2[j]-50)<eps:\n",
        "                ind_hl = j\n",
        "                t_hl = t[ind_hl]\n",
        "                break\n",
        "        blood_hl[i] = (t_hl-t_max)*24 #pasar de días a horas\n",
        "\n",
        "        #calcular la esperanza de vida\n",
        "        ind_ls = 0\n",
        "        for j in range(ind_hl,L):\n",
        "            if abs(sim_2[j]-5)<eps:\n",
        "                ind_ls = j\n",
        "                t_ls = t[ind_ls]\n",
        "                break\n",
        "        blood_ls[i] = (t_ls-t_max)*24 #pasar de días a horas\n",
        "\n"
      ]
    },
    {
      "cell_type": "markdown",
      "metadata": {
        "id": "U8cl6yhuUJAv"
      },
      "source": [
        "##Médula Ósea"
      ]
    },
    {
      "cell_type": "code",
      "execution_count": null,
      "metadata": {
        "id": "3LvbR-TUUMjm"
      },
      "outputs": [],
      "source": [
        "posterior = idata_bm_n.posterior.stack(samples=(\"draw\", \"chain\"))\n",
        "L = len(t)\n",
        "sample = np.random.randint(0, len(posterior[\"n0\"]), N)\n",
        "for i in range(N):\n",
        "        sim=evo(t,posterior[\"n0\"][sample[i]].to_numpy(), \\\n",
        "                posterior[\"tau\"][sample[i]].to_numpy(), \\\n",
        "                posterior[\"td\"][sample[i]].to_numpy(), \\\n",
        "                posterior[\"sig\"][sample[i]].to_numpy())\n",
        "        temp = max(sim)\n",
        "        temp2 = min(sim)\n",
        "        ind_temp = int(sim.argmax(axis=0))\n",
        "        sim_2 = (sim-temp2)*100/(temp-temp2)\n",
        "        t_max = t[ind_temp]\n",
        "\n",
        "        #calcular la semivida\n",
        "        ind_hl = 0\n",
        "        for j in range(ind_temp,L):\n",
        "            if abs(sim_2[j]-50)<eps:\n",
        "                ind_hl = j\n",
        "                t_hl = t[ind_hl]\n",
        "                break\n",
        "        bm_hl[i] = (t_hl-t_max)*24 #pasar de días a horas\n",
        "\n",
        "        #calcular la esperanza de vida\n",
        "        ind_ls = 0\n",
        "        for j in range(ind_hl,L):\n",
        "            if abs(sim_2[j]-5)<eps:\n",
        "                ind_ls = j\n",
        "                t_ls = t[ind_ls]\n",
        "                break\n",
        "        bm_ls[i] = (t_ls-t_max)*24 #pasar de días a horas"
      ]
    },
    {
      "cell_type": "markdown",
      "metadata": {
        "id": "tsDGbKDUUM9G"
      },
      "source": [
        "##Bazo"
      ]
    },
    {
      "cell_type": "code",
      "execution_count": null,
      "metadata": {
        "id": "bwvvE2ocUOyv"
      },
      "outputs": [],
      "source": [
        "posterior = idata_spleen_n.posterior.stack(samples=(\"draw\", \"chain\"))\n",
        "L=len(t)\n",
        "sample = np.random.randint(0, len(posterior[\"n0\"]), N)\n",
        "for i in range(N):\n",
        "        sim=evo(t,posterior[\"n0\"][sample[i]].to_numpy(), \\\n",
        "                posterior[\"tau\"][sample[i]].to_numpy(), \\\n",
        "                posterior[\"td\"][sample[i]].to_numpy(), \\\n",
        "                posterior[\"sig\"][sample[i]].to_numpy())\n",
        "        temp = max(sim)\n",
        "        temp2 = min(sim)\n",
        "        ind_temp = int(sim.argmax(axis=0))\n",
        "        sim_2 = (sim-temp2)*100/(temp-temp2)\n",
        "        t_max = t[ind_temp]\n",
        "\n",
        "        #calcular la semivida\n",
        "        ind_hl = 0\n",
        "        for j in range(ind_temp,L):\n",
        "            if abs(sim_2[j]-50)<eps:\n",
        "                ind_hl = j\n",
        "                t_hl = t[ind_hl]\n",
        "                break\n",
        "        spleen_hl[i] = (t_hl-t_max)*24 #pasar de días a horas\n",
        "\n",
        "        #calcular la esperanza de vida\n",
        "        ind_ls = 0\n",
        "        for j in range(ind_hl,L):\n",
        "            if abs(sim_2[j]-5)<eps:\n",
        "                ind_ls = j\n",
        "                t_ls = t[ind_ls]\n",
        "                break\n",
        "        spleen_ls[i] = (t_ls-t_max)*24 #pasar de días a horas"
      ]
    },
    {
      "cell_type": "markdown",
      "metadata": {
        "id": "gCyRQ0qbUPZU"
      },
      "source": [
        "##Tumor"
      ]
    },
    {
      "cell_type": "code",
      "execution_count": null,
      "metadata": {
        "id": "vMDM2SjAUSH1"
      },
      "outputs": [],
      "source": [
        "posterior = idata_tumor_n.posterior.stack(samples=(\"draw\", \"chain\"))\n",
        "L = len(t)\n",
        "sample = np.random.randint(0, len(posterior[\"n0\"]), N)\n",
        "for i in range(N):\n",
        "        sim = evo(t,posterior[\"n0\"][sample[i]].to_numpy(), \\\n",
        "                  posterior[\"tau\"][sample[i]].to_numpy(), \\\n",
        "                  posterior[\"td\"][sample[i]].to_numpy(), \\\n",
        "                  posterior[\"sig\"][sample[i]].to_numpy())\n",
        "        temp = max(sim)\n",
        "        temp2 = min(sim)\n",
        "        ind_temp = int(sim.argmax(axis=0))\n",
        "        sim_2 = (sim-temp2)*100/(temp-temp2)\n",
        "        t_max = t[ind_temp]\n",
        "\n",
        "        #calcular la semivida\n",
        "        ind_hl = 0\n",
        "        for j in range(ind_temp,L):\n",
        "            if abs(sim_2[j]-50)<eps:\n",
        "                ind_hl = j\n",
        "                t_hl = t[ind_hl]\n",
        "                break\n",
        "        tumor_hl[i] = (t_hl-t_max)*24 #pasar de días a horas\n",
        "\n",
        "        #calcular la esperanza de vida\n",
        "        ind_ls = 0\n",
        "        for j in range(ind_hl,L):\n",
        "            if abs(sim_2[j]-5)<eps:\n",
        "                ind_ls = j\n",
        "                t_ls = t[ind_ls]\n",
        "                break\n",
        "        tumor_ls[i] = (t_ls-t_max)*24 #pasar de días a horas"
      ]
    },
    {
      "cell_type": "markdown",
      "metadata": {
        "id": "FQ7U6ohYZVdt"
      },
      "source": [
        "##Test"
      ]
    },
    {
      "cell_type": "code",
      "execution_count": null,
      "metadata": {
        "id": "2xw0twHUZYgZ"
      },
      "outputs": [],
      "source": [
        "#6 test en total (4 tejidos)\n",
        "#SANGRE-MO\n",
        "blood_bm_hl = sc.stats.mannwhitneyu(blood_hl,bm_hl,alternative='two-sided')\n",
        "blood_bm_ls = sc.stats.mannwhitneyu(blood_ls,bm_ls, alternative='two-sided')\n",
        "#SANGRE-BAZO\n",
        "blood_spleen_hl = sc.stats.mannwhitneyu(blood_hl,spleen_hl, \\\n",
        "                                        alternative='two-sided')\n",
        "blood_spleen_ls = sc.stats.mannwhitneyu(blood_ls,spleen_ls, \\\n",
        "                                        alternative='two-sided')\n",
        "#SANGRE-TUMOR\n",
        "blood_tumor_hl = sc.stats.mannwhitneyu(blood_hl,tumor_hl, \\\n",
        "                                       alternative='two-sided')\n",
        "blood_tumor_ls = sc.stats.mannwhitneyu(blood_ls,tumor_ls, \\\n",
        "                                       alternative='two-sided')\n",
        "#MO-BAZO\n",
        "bm_spleen_hl = sc.stats.mannwhitneyu(bm_hl,spleen_hl, \\\n",
        "                                     alternative='two-sided')\n",
        "bm_spleen_ls = sc.stats.mannwhitneyu(bm_ls,spleen_ls, \\\n",
        "                                     alternative='two-sided')\n",
        "#MO-TUMOR\n",
        "bm_tumor_hl = sc.stats.mannwhitneyu(bm_hl,tumor_hl, \\\n",
        "                                    alternative='two-sided')\n",
        "bm_tumor_ls = sc.stats.mannwhitneyu(bm_ls,tumor_ls, \\\n",
        "                                    alternative='two-sided')\n",
        "#BAZO-TUMOR\n",
        "spleen_tumor_hl = sc.stats.mannwhitneyu(spleen_hl,tumor_hl, \\\n",
        "                                        alternative='two-sided')\n",
        "spleen_tumor_ls = sc.stats.mannwhitneyu(spleen_ls,tumor_ls, \\\n",
        "                                        alternative='two-sided')"
      ]
    },
    {
      "cell_type": "code",
      "execution_count": null,
      "metadata": {
        "id": "xuf9QIOsRoDy"
      },
      "outputs": [],
      "source": [
        "print('Semivida Sangre-MO =',blood_bm_hl)\n",
        "\n",
        "print('Semivida Sangre-Bazo =',blood_spleen_hl)\n",
        "\n",
        "print('Semivida Sangre-Tumor =',blood_tumor_hl)\n",
        "\n",
        "print('Semivida MO-Bazo =',bm_spleen_hl)\n",
        "\n",
        "print('Semivida MO-Tumor =',bm_tumor_hl)\n",
        "\n",
        "print('Semivida Bazo-Tumor =',spleen_tumor_hl)"
      ]
    },
    {
      "cell_type": "code",
      "execution_count": null,
      "metadata": {
        "id": "12atNVFZfgqN"
      },
      "outputs": [],
      "source": [
        "print('Esperanza de vida Sangre-MO =',blood_bm_ls)\n",
        "\n",
        "print('Esperanza de vida Sangre-Bazo =',blood_spleen_ls)\n",
        "\n",
        "print('Esperanza de vida Sangre-Tumor =',blood_tumor_ls)\n",
        "\n",
        "print('Esperanza de vida MO-Bazo =',bm_spleen_ls)\n",
        "\n",
        "print('Esperanza de vida MO-Tumor =',bm_tumor_ls)\n",
        "\n",
        "print('Esperanza de vida Bazo-Tumor =',spleen_tumor_ls)"
      ]
    }
  ],
  "metadata": {
    "colab": {
      "provenance": [],
      "authorship_tag": "ABX9TyMGDJL6J4cccUsg7eOC7qav",
      "include_colab_link": true
    },
    "kernelspec": {
      "display_name": "Python 3",
      "name": "python3"
    },
    "language_info": {
      "name": "python"
    }
  },
  "nbformat": 4,
  "nbformat_minor": 0
}